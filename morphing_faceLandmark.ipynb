{
 "cells": [
  {
   "cell_type": "code",
   "execution_count": 1,
   "metadata": {},
   "outputs": [
    {
     "name": "stdout",
     "output_type": "stream",
     "text": [
      "FACE Init time: 1.122041 s\n"
     ]
    },
    {
     "data": {
      "text/plain": [
       "2.812454"
      ]
     },
     "execution_count": 1,
     "metadata": {},
     "output_type": "execute_result"
    }
   ],
   "source": [
    "from math import floor, ceil\n",
    "import numpy as np\n",
    "import cv2\n",
    "import matplotlib.pyplot as plt\n",
    "import face\n",
    "import time\n",
    "time.clock()"
   ]
  },
  {
   "cell_type": "code",
   "execution_count": 2,
   "metadata": {},
   "outputs": [],
   "source": [
    "# return [B,G,R,A]\n",
    "def get_pixel(y, x, src):\n",
    "    if (x<0 or y<0 or x>src.shape[1]-1 or y>src.shape[0]-1): # out of frame\n",
    "        return [0,0,0,0]\n",
    "    xt, yt = x-int(x), y-int(y)\n",
    "    #print(xt,yt)\n",
    "    u, d, l, r = floor(y), ceil(y), floor(x), ceil(x)\n",
    "    ul, ur, dl, dr = src[u][l], src[u][r], src[d][l], src[d][r]\n",
    "    bgr = np.zeros(3)\n",
    "    bgr += ul * xt     * yt\n",
    "    bgr += ur * (1-xt) * yt\n",
    "    bgr += dl * xt     * (1-yt)\n",
    "    bgr += dr * (1-xt) * (1-yt)\n",
    "    return np.concatenate([bgr,[255]])"
   ]
  },
  {
   "cell_type": "code",
   "execution_count": 3,
   "metadata": {},
   "outputs": [],
   "source": [
    "# magniture of vector\n",
    "def mag(x):\n",
    "    return np.sqrt(x.dot(x))\n",
    "# angle is clockwise or counterclockwise\n",
    "def cross_direction(x, y):\n",
    "    return np.sign(x[0]*y[1]-x[1]*y[0])\n",
    "# project y on x , ratio of x\n",
    "def projection_factor(x, y):\n",
    "    return x.dot(y) / x.dot(x)"
   ]
  },
  {
   "cell_type": "code",
   "execution_count": 4,
   "metadata": {},
   "outputs": [],
   "source": [
    "a, b, p = 0.01, 2, 1\n",
    "def morph(dest, src, pairs):\n",
    "    # pairs : [[srcP,srcQ,destP,destQ],...]\n",
    "    ts = time.clock()\n",
    "    for y in range(dest.shape[0]):\n",
    "        for x in range(dest.shape[1]):\n",
    "            X = np.array([x,y])\n",
    "            X_s = np.zeros(2)\n",
    "            weights = 0\n",
    "            for pair in pairs:\n",
    "                PQ = pair[3]-pair[2]\n",
    "                P_Q_ = pair[1]-pair[0]\n",
    "                u = projection_factor(PQ, X-pair[2]) # scalar, u*PQ is the actual u\n",
    "                v = X-pair[2]-u*PQ\n",
    "                v_ = P_Q_[::-1]*np.array([-1,1])/mag(PQ) * mag(v)*cross_direction(PQ,X-pair[2])\n",
    "                X_ = (pair[0]*(1-u) + pair[1]*u) + v_\n",
    "                #print(X, X_, u,v, v_, cross_direction(PQ,X-pair[2]))\n",
    "                weight = (mag(PQ)**p/(a+mag(v)))**b\n",
    "                X_s += (X_-X) * weight\n",
    "                weights += weight\n",
    "            X_s = X + X_s/weights\n",
    "            dest[y][x] = get_pixel(X_s[1], X_s[0], src)\n",
    "    print(\"morphing: \",time.clock()-ts,\"s\")"
   ]
  },
  {
   "cell_type": "code",
   "execution_count": 5,
   "metadata": {},
   "outputs": [
    {
     "name": "stdout",
     "output_type": "stream",
     "text": [
      "morphing:  169.793982 s\n",
      "morphing:  166.88621799999999 s\n"
     ]
    }
   ],
   "source": [
    "unified_shape = (300,300)\n",
    "source1 = cv2.resize(cv2.imread('./img/person_1/Ming Ouhyoung.png'),unified_shape)\n",
    "source2 = cv2.resize(cv2.imread('./img/person_1/unnamed.jpg'),unified_shape)\n",
    "dest_r = np.zeros(unified_shape+(4,)).astype(np.uint8)\n",
    "dest_l = np.zeros(unified_shape+(4,)).astype(np.uint8)\n",
    "destination = np.zeros(unified_shape+(4,)).astype(np.uint8)\n",
    "line_l = face.gen_lines(source1)\n",
    "line_r = face.gen_lines(source2)\n",
    "perc = 0.3\n",
    "morph(dest_l, source1, np.concatenate((line_l,line_r*perc+line_l*(1-perc)),axis=1))\n",
    "morph(dest_r, source2, np.concatenate((line_r,line_r*perc+line_l*(1-perc)),axis=1))"
   ]
  },
  {
   "cell_type": "code",
   "execution_count": 9,
   "metadata": {},
   "outputs": [
    {
     "data": {
      "text/plain": [
       "True"
      ]
     },
     "execution_count": 9,
     "metadata": {},
     "output_type": "execute_result"
    }
   ],
   "source": [
    "cv2.imshow('image', source1)\n",
    "cv2.waitKey(0)\n",
    "cv2.imshow('image', source2)\n",
    "cv2.waitKey(0)\n",
    "cv2.imshow('image', dest_l)\n",
    "cv2.waitKey(0)\n",
    "cv2.imshow('image', dest_r)\n",
    "cv2.waitKey(0)\n",
    "cv2.addWeighted(dest_l,(1-perc),dest_r,perc,0,destination)\n",
    "cv2.imshow('image', destination)\n",
    "cv2.waitKey(0)\n",
    "cv2.destroyAllWindows()\n",
    "cv2.imwrite('./morph.png', destination)"
   ]
  },
  {
   "cell_type": "code",
   "execution_count": null,
   "metadata": {},
   "outputs": [],
   "source": []
  }
 ],
 "metadata": {
  "kernelspec": {
   "display_name": "Python 3",
   "language": "python",
   "name": "python3"
  },
  "language_info": {
   "codemirror_mode": {
    "name": "ipython",
    "version": 3
   },
   "file_extension": ".py",
   "mimetype": "text/x-python",
   "name": "python",
   "nbconvert_exporter": "python",
   "pygments_lexer": "ipython3",
   "version": "3.6.7"
  }
 },
 "nbformat": 4,
 "nbformat_minor": 2
}
